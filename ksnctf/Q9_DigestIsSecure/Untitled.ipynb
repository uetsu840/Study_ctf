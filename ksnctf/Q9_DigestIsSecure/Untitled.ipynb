{
 "cells": [
  {
   "cell_type": "code",
   "execution_count": 22,
   "metadata": {},
   "outputs": [],
   "source": [
    "import urllib\n",
    "import urllib.request, urllib.error\n",
    "import hashlib\n",
    "\n",
    "url = 'http://ksnctf.sweetduet.info:10080/~q9/flag.html'\n",
    "\n",
    "\n",
    "username = \"q9\"\n",
    "realm = \"secret\"\n",
    "nonce = \"\"\n",
    "uri = \"/~q9/flag.html\"\n",
    "algorithm = \"MD5\"\n",
    "response = \"\"\n",
    "qop = \"auth\"\n",
    "nc = \"00000001\"\n",
    "cnonce = \"9691c249745d94fc\"\n",
    "md5a1 = \"c627e19450db746b739f41b64097d449\"\n",
    "a2 = 'GET:' + uri\n",
    "\n",
    "def getNonce():\n",
    "    try:\n",
    "        data = urllib.request.urlopen(url)\n",
    "        html = data.read()\n",
    "    except urllib.error.HTTPError as e:\n",
    "        nonce = e.info()['WWW-Authenticate'].split('\"')[3]\n",
    "    return nonce\n",
    "\n",
    "\n"
   ]
  },
  {
   "cell_type": "code",
   "execution_count": 29,
   "metadata": {
    "collapsed": true
   },
   "outputs": [],
   "source": [
    "\n",
    "def genMD5(str):\n",
    "    return hashlib.md5(str.encode()).hexdigest()\n",
    "\n",
    "def genResponse(nonce):\n",
    "    response = genMD5(md5a1 + ':' + nonce + ':' + nc + ':' + cnonce + ':' + qop + ':' + genMD5(a2))\n",
    "    return response\n",
    "\n",
    "\n",
    "def genAuthorized(nonce, response):\n",
    "    authorized = 'Digest username=\"' + username + '\", realm=\"' + realm + '\", nonce=\"' + nonce + '\",uri=\"' + uri + '\", algorithm=' + algorithm + ', response=\"' + response + '\", qop=' + qop + ', nc=' + nc + ', cnonce=\"' + cnonce + '\"'\n",
    "    return authorized\n",
    "\n"
   ]
  },
  {
   "cell_type": "code",
   "execution_count": 31,
   "metadata": {},
   "outputs": [
    {
     "name": "stdout",
     "output_type": "stream",
     "text": [
      "b'<!DOCTYPE html>\\n  <head>\\n    <meta charset=\"utf-8\">\\n    <title>Q9</title>\\n  </head>\\n  <body>\\n    <p>FLAG_YBLyivV4WEvC4pp3</p>\\n  </body>\\n</html>\\n'\n"
     ]
    }
   ],
   "source": [
    "nonce = getNonce()\n",
    "response = genResponse(nonce)\n",
    "auth = genAuthorized(nonce, response)\n",
    "header = {'Authorization' : auth}\n",
    "req = urllib.request.Request(url, None, header)\n",
    "try:\n",
    "    data = urllib.request.urlopen(req)\n",
    "    html = data.read()\n",
    "    print(html)\n",
    "except urllib.error.HTTPError as e:\n",
    "    print(e.code)\n",
    "    print(e.info())"
   ]
  },
  {
   "cell_type": "code",
   "execution_count": null,
   "metadata": {
    "collapsed": true
   },
   "outputs": [],
   "source": []
  },
  {
   "cell_type": "code",
   "execution_count": null,
   "metadata": {
    "collapsed": true
   },
   "outputs": [],
   "source": []
  },
  {
   "cell_type": "code",
   "execution_count": null,
   "metadata": {
    "collapsed": true
   },
   "outputs": [],
   "source": []
  }
 ],
 "metadata": {
  "kernelspec": {
   "display_name": "Python 3",
   "language": "python",
   "name": "python3"
  },
  "language_info": {
   "codemirror_mode": {
    "name": "ipython",
    "version": 3
   },
   "file_extension": ".py",
   "mimetype": "text/x-python",
   "name": "python",
   "nbconvert_exporter": "python",
   "pygments_lexer": "ipython3",
   "version": "3.6.3"
  }
 },
 "nbformat": 4,
 "nbformat_minor": 2
}
