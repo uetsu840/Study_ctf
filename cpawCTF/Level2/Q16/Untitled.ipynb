{
 "cells": [
  {
   "cell_type": "code",
   "execution_count": 4,
   "metadata": {},
   "outputs": [
    {
     "ename": "ModuleNotFoundError",
     "evalue": "No module named 'cv2'",
     "output_type": "error",
     "traceback": [
      "\u001b[1;31m---------------------------------------------------------------------------\u001b[0m",
      "\u001b[1;31mModuleNotFoundError\u001b[0m                       Traceback (most recent call last)",
      "\u001b[1;32m<ipython-input-4-773debb5fbf9>\u001b[0m in \u001b[0;36m<module>\u001b[1;34m()\u001b[0m\n\u001b[0;32m      4\u001b[0m \u001b[1;32mimport\u001b[0m \u001b[0mpyocr\u001b[0m\u001b[1;33m.\u001b[0m\u001b[0mbuilders\u001b[0m\u001b[1;33m\u001b[0m\u001b[0m\n\u001b[0;32m      5\u001b[0m \u001b[1;33m\u001b[0m\u001b[0m\n\u001b[1;32m----> 6\u001b[1;33m \u001b[1;32mimport\u001b[0m \u001b[0mcv2\u001b[0m\u001b[1;33m\u001b[0m\u001b[0m\n\u001b[0m\u001b[0;32m      7\u001b[0m \u001b[1;32mfrom\u001b[0m \u001b[0mPIL\u001b[0m \u001b[1;32mimport\u001b[0m \u001b[0mImage\u001b[0m\u001b[1;33m\u001b[0m\u001b[0m\n\u001b[0;32m      8\u001b[0m \u001b[1;33m\u001b[0m\u001b[0m\n",
      "\u001b[1;31mModuleNotFoundError\u001b[0m: No module named 'cv2'"
     ]
    }
   ],
   "source": [
    "import sys\n",
    "\n",
    "import pyocr\n",
    "import pyocr.builders\n",
    "\n",
    "import cv2\n",
    "from PIL import Image\n",
    "\n",
    "def imageToText(src):\n",
    "    tools = pyocr.get_available_tools()\n",
    "    if len(tools) == 0:\n",
    "        print(\"No OCR tool found\")\n",
    "        sys.exit(1)\n",
    "\n",
    "    tool = tools[0]\n",
    "\n",
    "    dst = tool.image_to_string(\n",
    "        Image.open(src),\n",
    "        lang='jpn',\n",
    "        builder=pyocr.builders.WordBoxBuilder(tesseract_layout=6)\n",
    "    )\n",
    "    return dst  \n",
    "\n",
    "if __name__ == '__main__':\n",
    "    img_path = sys.argv[1]\n",
    "\n",
    "    out = imageToText(img_path)\n",
    "\n",
    "    img = cv2.imread(img_path)\n",
    "    sentence = []\n",
    "    for d in out:\n",
    "        sentence.append(d.content)\n",
    "        cv2.rectangle(img, d.position[0], d.position[1], (0, 0, 255), 2)\n",
    "\n",
    "    print(\"\".join(sentence).replace(\"。\",\"。\\n\"))\n",
    "\n",
    "    cv2.imshow(\"img\", img)\n",
    "    cv2.imwrite(\"output.png\", img)\n",
    "    cv2.waitKey(0)\n",
    "    cv2.destroyAllWindows()"
   ]
  },
  {
   "cell_type": "code",
   "execution_count": 3,
   "metadata": {},
   "outputs": [
    {
     "name": "stdout",
     "output_type": "stream",
     "text": [
      "Collecting pip\n",
      "  Using cached https://files.pythonhosted.org/packages/54/0c/d01aa759fdc501a58f431eb594a17495f15b88da142ce14b5845662c13f3/pip-20.0.2-py2.py3-none-any.whl\n",
      "Installing collected packages: pip\n",
      "  Found existing installation: pip 18.0\n",
      "    Uninstalling pip-18.0:\n",
      "      Successfully uninstalled pip-18.0\n",
      "Successfully installed pip-20.0.2\n"
     ]
    }
   ],
   "source": [
    "!python -m pip install --upgrade pip\n"
   ]
  },
  {
   "cell_type": "code",
   "execution_count": 6,
   "metadata": {},
   "outputs": [
    {
     "name": "stdout",
     "output_type": "stream",
     "text": [
      "Collecting opencv-python\n",
      "  Downloading opencv_python-4.2.0.32-cp36-cp36m-win_amd64.whl (33.0 MB)\n",
      "Requirement already satisfied: numpy>=1.11.3 in c:\\users\\tomonobu\\anaconda3\\lib\\site-packages (from opencv-python) (1.15.0)\n",
      "Installing collected packages: opencv-python\n",
      "Successfully installed opencv-python-4.2.0.32\n"
     ]
    }
   ],
   "source": [
    "!pip install opencv-python\n",
    "\n"
   ]
  }
 ],
 "metadata": {
  "kernelspec": {
   "display_name": "Python 3",
   "language": "python",
   "name": "python3"
  },
  "language_info": {
   "codemirror_mode": {
    "name": "ipython",
    "version": 3
   },
   "file_extension": ".py",
   "mimetype": "text/x-python",
   "name": "python",
   "nbconvert_exporter": "python",
   "pygments_lexer": "ipython3",
   "version": "3.6.3"
  }
 },
 "nbformat": 4,
 "nbformat_minor": 2
}
