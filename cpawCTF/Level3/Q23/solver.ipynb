{
 "cells": [
  {
   "cell_type": "code",
   "execution_count": 2,
   "metadata": {},
   "outputs": [
    {
     "name": "stdout",
     "output_type": "stream",
     "text": [
      "cpaw{vernam!!}\n"
     ]
    }
   ],
   "source": [
    "crypt = []\n",
    "\n",
    "crypt.append(0x7a)\n",
    "crypt.append(0x69)\n",
    "crypt.append(0x78)\n",
    "crypt.append(0x6e)\n",
    "crypt.append(0x62)\n",
    "crypt.append(0x6f)\n",
    "crypt.append(0x7c)\n",
    "crypt.append(0x6b)\n",
    "crypt.append(0x77)\n",
    "crypt.append(0x78)\n",
    "crypt.append(0x74)\n",
    "crypt.append(0x38)\n",
    "crypt.append(0x38)\n",
    "crypt.append(0x64)\n",
    "\n",
    "key = 0x19\n",
    "\n",
    "ans = \"\"\n",
    "for c in crypt:\n",
    "    ans = ans + chr(key^c)\n",
    "\n",
    "print(ans)\n"
   ]
  },
  {
   "cell_type": "markdown",
   "metadata": {},
   "source": [
    "(参考)[https://qiita.com/yyamada_bigtree/items/dccf79b5914fd46ffac7]"
   ]
  }
 ],
 "metadata": {
  "kernelspec": {
   "display_name": "Python 3",
   "language": "python",
   "name": "python3"
  },
  "language_info": {
   "codemirror_mode": {
    "name": "ipython",
    "version": 3
   },
   "file_extension": ".py",
   "mimetype": "text/x-python",
   "name": "python",
   "nbconvert_exporter": "python",
   "pygments_lexer": "ipython3",
   "version": "3.6.3"
  }
 },
 "nbformat": 4,
 "nbformat_minor": 2
}
